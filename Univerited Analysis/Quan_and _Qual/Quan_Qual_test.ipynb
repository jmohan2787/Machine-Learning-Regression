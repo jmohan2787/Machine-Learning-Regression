{
 "cells": [
  {
   "cell_type": "code",
   "execution_count": 1,
   "id": "3e005253",
   "metadata": {},
   "outputs": [],
   "source": [
    "import pandas as pd"
   ]
  },
  {
   "cell_type": "code",
   "execution_count": 2,
   "id": "6fcb4fd3",
   "metadata": {},
   "outputs": [],
   "source": [
    "data=pd.read_csv('Placement.csv')"
   ]
  },
  {
   "cell_type": "code",
   "execution_count": 77,
   "id": "381dbcda",
   "metadata": {},
   "outputs": [
    {
     "data": {
      "text/plain": [
       "Index(['sl_no', 'gender', 'ssc_p', 'ssc_b', 'hsc_p', 'hsc_b', 'hsc_s',\n",
       "       'degree_p', 'degree_t', 'workex', 'etest_p', 'specialisation', 'mba_p',\n",
       "       'status', 'salary'],\n",
       "      dtype='object')"
      ]
     },
     "execution_count": 77,
     "metadata": {},
     "output_type": "execute_result"
    }
   ],
   "source": [
    "data.columns"
   ]
  },
  {
   "cell_type": "code",
   "execution_count": 118,
   "id": "04136b38",
   "metadata": {},
   "outputs": [
    {
     "data": {
      "text/plain": [
       "dtype('O')"
      ]
     },
     "execution_count": 118,
     "metadata": {},
     "output_type": "execute_result"
    }
   ],
   "source": [
    "data[\"gender\"].dtype"
   ]
  },
  {
   "cell_type": "code",
   "execution_count": 119,
   "id": "09870afe",
   "metadata": {},
   "outputs": [],
   "source": [
    "Qual=[i for i in data.columns if data[i].dtype=='O']\n",
    "Quan=[i for i in data.columns if data[i].dtype !='O']"
   ]
  },
  {
   "cell_type": "code",
   "execution_count": 120,
   "id": "bdf98d45",
   "metadata": {
    "scrolled": true
   },
   "outputs": [],
   "source": [
    "def getQuanQual(data):\n",
    "    Quan,Qual=[],[]\n",
    "    for i in data.columns:\n",
    "        if data[i].dtype=='O':\n",
    "            Qual.append(i)\n",
    "        elif data[i].dtype!='O':\n",
    "            Quan.append(i)\n",
    "    return Quan,Qual"
   ]
  },
  {
   "cell_type": "code",
   "execution_count": 121,
   "id": "5b1ffa8a",
   "metadata": {},
   "outputs": [
    {
     "name": "stdout",
     "output_type": "stream",
     "text": [
      "['sl_no', 'ssc_p', 'hsc_p', 'degree_p', 'etest_p', 'mba_p', 'salary'] ['gender', 'ssc_b', 'hsc_b', 'hsc_s', 'degree_t', 'workex', 'specialisation', 'status']\n"
     ]
    }
   ],
   "source": [
    "Quan,Qual=getQuanQual(data)\n",
    "print(Quan,Qual)"
   ]
  },
  {
   "cell_type": "code",
   "execution_count": 124,
   "id": "6d87f80a",
   "metadata": {},
   "outputs": [],
   "source": [
    "from Univariate import Univariate"
   ]
  },
  {
   "cell_type": "code",
   "execution_count": 125,
   "id": "ad5273a3",
   "metadata": {},
   "outputs": [],
   "source": [
    "Quan,Qual=Univariate.getQuanQual(data)"
   ]
  },
  {
   "cell_type": "code",
   "execution_count": 126,
   "id": "0be6327a",
   "metadata": {},
   "outputs": [
    {
     "name": "stdout",
     "output_type": "stream",
     "text": [
      "['sl_no', 'ssc_p', 'hsc_p', 'degree_p', 'etest_p', 'mba_p', 'salary'] ['gender', 'ssc_b', 'hsc_b', 'hsc_s', 'degree_t', 'workex', 'specialisation', 'status']\n"
     ]
    }
   ],
   "source": [
    "print(Quan,Qual)"
   ]
  },
  {
   "cell_type": "code",
   "execution_count": null,
   "id": "2e284a9f",
   "metadata": {},
   "outputs": [],
   "source": []
  }
 ],
 "metadata": {
  "kernelspec": {
   "display_name": "Python 3 (ipykernel)",
   "language": "python",
   "name": "python3"
  },
  "language_info": {
   "codemirror_mode": {
    "name": "ipython",
    "version": 3
   },
   "file_extension": ".py",
   "mimetype": "text/x-python",
   "name": "python",
   "nbconvert_exporter": "python",
   "pygments_lexer": "ipython3",
   "version": "3.7.1"
  }
 },
 "nbformat": 4,
 "nbformat_minor": 5
}
