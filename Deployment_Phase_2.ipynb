{
 "cells": [
  {
   "cell_type": "code",
   "execution_count": 2,
   "id": "7bb02c2c-ba7e-4e94-b9dc-f795403206c7",
   "metadata": {},
   "outputs": [],
   "source": [
    "import pickle"
   ]
  },
  {
   "cell_type": "code",
   "execution_count": 3,
   "id": "24ccd742-981f-4cc8-8be4-fe560013e5d9",
   "metadata": {},
   "outputs": [],
   "source": [
    "load_predict=pickle.load(open('Working_model_Linear_regression.sav','rb'))"
   ]
  },
  {
   "cell_type": "code",
   "execution_count": 4,
   "id": "c01a5ada-8d66-43cd-bd98-1947a050c05a",
   "metadata": {},
   "outputs": [
    {
     "name": "stderr",
     "output_type": "stream",
     "text": [
      "C:\\Users\\mojayara\\AppData\\Local\\anaconda3\\Lib\\site-packages\\sklearn\\base.py:493: UserWarning: X does not have valid feature names, but LinearRegression was fitted with feature names\n",
      "  warnings.warn(\n"
     ]
    }
   ],
   "source": [
    "result=load_predict.predict([[12]])"
   ]
  },
  {
   "cell_type": "code",
   "execution_count": 5,
   "id": "76fab5ca-f9fb-4275-b322-47a28b392f53",
   "metadata": {},
   "outputs": [
    {
     "data": {
      "text/plain": [
       "array([[138967.5015615]])"
      ]
     },
     "execution_count": 5,
     "metadata": {},
     "output_type": "execute_result"
    }
   ],
   "source": [
    "result"
   ]
  },
  {
   "cell_type": "code",
   "execution_count": null,
   "id": "bf6cc662-bb71-470d-8d24-7a0992d89176",
   "metadata": {},
   "outputs": [],
   "source": []
  }
 ],
 "metadata": {
  "kernelspec": {
   "display_name": "Python 3 (ipykernel)",
   "language": "python",
   "name": "python3"
  },
  "language_info": {
   "codemirror_mode": {
    "name": "ipython",
    "version": 3
   },
   "file_extension": ".py",
   "mimetype": "text/x-python",
   "name": "python",
   "nbconvert_exporter": "python",
   "pygments_lexer": "ipython3",
   "version": "3.12.7"
  }
 },
 "nbformat": 4,
 "nbformat_minor": 5
}
